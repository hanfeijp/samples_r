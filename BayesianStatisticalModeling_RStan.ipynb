{
 "cells": [
  {
   "cell_type": "code",
   "execution_count": 2,
   "metadata": {},
   "outputs": [
    {
     "name": "stderr",
     "output_type": "stream",
     "text": [
      "Loading required package: ggplot2\n",
      "Loading required package: StanHeaders\n",
      "rstan (Version 2.16.2, packaged: 2017-07-03 09:24:58 UTC, GitRev: 2e1f913d3ca3)\n",
      "For execution on a local, multicore CPU with excess RAM we recommend calling\n",
      "rstan_options(auto_write = TRUE)\n",
      "options(mc.cores = parallel::detectCores())\n"
     ]
    }
   ],
   "source": [
    "library(rstan)"
   ]
  },
  {
   "cell_type": "code",
   "execution_count": 3,
   "metadata": {},
   "outputs": [
    {
     "data": {
      "text/plain": [
       "R version 3.3.2 (2016-10-31)\n",
       "Platform: x86_64-apple-darwin13.4.0 (64-bit)\n",
       "Running under: OS X El Capitan 10.11.6\n",
       "\n",
       "locale:\n",
       "[1] ja_JP.UTF-8/ja_JP.UTF-8/ja_JP.UTF-8/C/ja_JP.UTF-8/ja_JP.UTF-8\n",
       "\n",
       "attached base packages:\n",
       "[1] stats     graphics  grDevices utils     datasets  methods   base     \n",
       "\n",
       "other attached packages:\n",
       "[1] rstan_2.16.2         StanHeaders_2.16.0-1 ggplot2_2.2.1       \n",
       "\n",
       "loaded via a namespace (and not attached):\n",
       " [1] Rcpp_0.12.8         magrittr_1.5        munsell_0.4.3      \n",
       " [4] uuid_0.1-2          colorspace_1.3-2    R6_2.2.0           \n",
       " [7] stringr_1.2.0       plyr_1.8.4          tools_3.3.2        \n",
       "[10] grid_3.3.2          gtable_0.2.0        lazyeval_0.2.0     \n",
       "[13] digest_0.6.12       assertthat_0.1      tibble_1.2         \n",
       "[16] crayon_1.3.2        gridExtra_2.2.1     IRdisplay_0.4.4    \n",
       "[19] repr_0.12.0         IRkernel_0.8.6.9000 inline_0.3.14      \n",
       "[22] evaluate_0.10       pbdZMQ_0.2-5        stringi_1.1.5      \n",
       "[25] scales_0.4.1        stats4_3.3.2        jsonlite_1.4       "
      ]
     },
     "metadata": {},
     "output_type": "display_data"
    }
   ],
   "source": [
    "sessionInfo()"
   ]
  },
  {
   "cell_type": "code",
   "execution_count": 30,
   "metadata": {},
   "outputs": [
    {
     "name": "stdout",
     "output_type": "stream",
     "text": [
      " [1] 3.7 3.1 6.4 5.1 5.1 3.6 6.3 5.4 6.5 3.3\n",
      " [1] 13  9  3 10  6  7  5 13  8  7\n"
     ]
    }
   ],
   "source": [
    "# データ\n",
    "N <- 10\n",
    "x_samples <- 1:N\n",
    "y_samples <- 1:N\n",
    "for(i in 1:N){\n",
    "    x <- round(runif(1, min=3, max=7), 1) # 3.0〜7.0までの乱数\n",
    "    mu <- exp(1.5+0.1*x)\n",
    "    y <- rpois(1, lambda=mu)\n",
    "    x_samples[i] <- x\n",
    "    y_samples[i] <- y\n",
    "}\n",
    "print(x_samples)\n",
    "print(y_samples)"
   ]
  },
  {
   "cell_type": "code",
   "execution_count": 33,
   "metadata": {},
   "outputs": [
    {
     "name": "stdout",
     "output_type": "stream",
     "text": [
      "\n",
      "SAMPLING FOR MODEL 'b84d10f4dc37f511239d8adcc932a241' NOW (CHAIN 1).\n",
      "\n",
      "Gradient evaluation took 9e-06 seconds\n",
      "1000 transitions using 10 leapfrog steps per transition would take 0.09 seconds.\n",
      "Adjust your expectations accordingly!\n",
      "\n",
      "\n",
      "Iteration:   1 / 1000 [  0%]  (Warmup)\n",
      "Iteration: 100 / 1000 [ 10%]  (Warmup)\n",
      "Iteration: 200 / 1000 [ 20%]  (Warmup)\n",
      "Iteration: 300 / 1000 [ 30%]  (Warmup)\n",
      "Iteration: 400 / 1000 [ 40%]  (Warmup)\n",
      "Iteration: 500 / 1000 [ 50%]  (Warmup)\n",
      "Iteration: 501 / 1000 [ 50%]  (Sampling)\n",
      "Iteration: 600 / 1000 [ 60%]  (Sampling)\n",
      "Iteration: 700 / 1000 [ 70%]  (Sampling)\n",
      "Iteration: 800 / 1000 [ 80%]  (Sampling)\n",
      "Iteration: 900 / 1000 [ 90%]  (Sampling)\n",
      "Iteration: 1000 / 1000 [100%]  (Sampling)\n",
      "\n",
      " Elapsed Time: 0.033398 seconds (Warm-up)\n",
      "               0.025105 seconds (Sampling)\n",
      "               0.058503 seconds (Total)\n",
      "\n"
     ]
    },
    {
     "data": {
      "text/plain": [
       "Inference for Stan model: b84d10f4dc37f511239d8adcc932a241.\n",
       "1 chains, each with iter=1000; warmup=500; thin=1; \n",
       "post-warmup draws per chain=500, total post-warmup draws=500.\n",
       "\n",
       "       mean se_mean   sd  2.5%   25%   50%   75% 97.5% n_eff Rhat\n",
       "beta1  2.66    0.04 0.41  1.96  2.40  2.63  2.92  3.53    96 1.01\n",
       "beta2 -0.12    0.01 0.09 -0.31 -0.17 -0.11 -0.06  0.03    98 1.01\n",
       "lp__  88.17    0.09 0.99 85.48 87.76 88.45 88.94 89.17   110 1.00\n",
       "\n",
       "Samples were drawn using NUTS(diag_e) at Sun Aug 13 16:31:52 2017.\n",
       "For each parameter, n_eff is a crude measure of effective sample size,\n",
       "and Rhat is the potential scale reduction factor on split chains (at \n",
       "convergence, Rhat=1)."
      ]
     },
     "metadata": {},
     "output_type": "display_data"
    }
   ],
   "source": [
    "stan_data <- list(N=N, x=x_samples, y=y_samples)\n",
    "model <- \"\n",
    "data {\n",
    "    int<lower=1>N;\n",
    "    vector[N] x;\n",
    "    int<lower=0> y[N];\n",
    "}\n",
    "parameters {\n",
    "    real beta1;\n",
    "    real beta2;\n",
    "}\n",
    "model {\n",
    "    for (i in 1:N){\n",
    "        y[i] ~ poisson(exp(beta1+beta2*x[i]));\n",
    "    }\n",
    "    beta1 ~ normal(0, 1000);\n",
    "    beta2 ~ normal(0, 1000);\n",
    "}\n",
    "\"\n",
    "fit <- stan(model_code=model, data=stan_data, iter=1000, chains=1)\n",
    "fit"
   ]
  }
 ],
 "metadata": {
  "kernelspec": {
   "display_name": "R",
   "language": "R",
   "name": "ir"
  },
  "language_info": {
   "codemirror_mode": "r",
   "file_extension": ".r",
   "mimetype": "text/x-r-source",
   "name": "R",
   "pygments_lexer": "r",
   "version": "3.3.2"
  }
 },
 "nbformat": 4,
 "nbformat_minor": 2
}
