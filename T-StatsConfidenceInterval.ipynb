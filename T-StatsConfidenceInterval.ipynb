{
 "cells": [
  {
   "cell_type": "code",
   "execution_count": 5,
   "metadata": {},
   "outputs": [
    {
     "data": {
      "text/plain": [
       "R version 3.3.2 (2016-10-31)\n",
       "Platform: x86_64-apple-darwin13.4.0 (64-bit)\n",
       "Running under: OS X El Capitan 10.11.6\n",
       "\n",
       "locale:\n",
       "[1] ja_JP.UTF-8/ja_JP.UTF-8/ja_JP.UTF-8/C/ja_JP.UTF-8/ja_JP.UTF-8\n",
       "\n",
       "attached base packages:\n",
       "[1] stats     graphics  grDevices utils     datasets  methods   base     \n",
       "\n",
       "loaded via a namespace (and not attached):\n",
       " [1] R6_2.2.0            magrittr_1.5        IRdisplay_0.4.4    \n",
       " [4] pbdZMQ_0.2-5        tools_3.3.2         crayon_1.3.2       \n",
       " [7] uuid_0.1-2          stringi_1.1.5       IRkernel_0.8.6.9000\n",
       "[10] jsonlite_1.4        stringr_1.2.0       digest_0.6.12      \n",
       "[13] repr_0.12.0         evaluate_0.10      "
      ]
     },
     "metadata": {},
     "output_type": "display_data"
    }
   ],
   "source": [
    "sessionInfo()"
   ]
  },
  {
   "cell_type": "code",
   "execution_count": 6,
   "metadata": {},
   "outputs": [
    {
     "data": {
      "text/html": [
       "<ol class=list-inline>\n",
       "\t<li>1.4</li>\n",
       "\t<li>1.4</li>\n",
       "\t<li>1.3</li>\n",
       "\t<li>1.5</li>\n",
       "\t<li>1.4</li>\n",
       "\t<li>1.7</li>\n",
       "</ol>\n"
      ],
      "text/latex": [
       "\\begin{enumerate*}\n",
       "\\item 1.4\n",
       "\\item 1.4\n",
       "\\item 1.3\n",
       "\\item 1.5\n",
       "\\item 1.4\n",
       "\\item 1.7\n",
       "\\end{enumerate*}\n"
      ],
      "text/markdown": [
       "1. 1.4\n",
       "2. 1.4\n",
       "3. 1.3\n",
       "4. 1.5\n",
       "5. 1.4\n",
       "6. 1.7\n",
       "\n",
       "\n"
      ],
      "text/plain": [
       "[1] 1.4 1.4 1.3 1.5 1.4 1.7"
      ]
     },
     "metadata": {},
     "output_type": "display_data"
    }
   ],
   "source": [
    "d1 <- subset(iris, Species==\"setosa\")$Petal.Length # setosaのPetal.Length\n",
    "head(d1)"
   ]
  },
  {
   "cell_type": "code",
   "execution_count": 7,
   "metadata": {},
   "outputs": [
    {
     "data": {
      "text/plain": [
       "\n",
       "\tOne Sample t-test\n",
       "\n",
       "data:  d1\n",
       "t = 59.528, df = 49, p-value < 2.2e-16\n",
       "alternative hypothesis: true mean is not equal to 0\n",
       "95 percent confidence interval:\n",
       " 1.412645 1.511355\n",
       "sample estimates:\n",
       "mean of x \n",
       "    1.462 \n"
      ]
     },
     "metadata": {},
     "output_type": "display_data"
    }
   ],
   "source": [
    "t.test(d1, mu=0) # t-分布による母平均の検定（帰無仮説「平均は０」）と区間推定"
   ]
  }
 ],
 "metadata": {
  "kernelspec": {
   "display_name": "R",
   "language": "R",
   "name": "ir"
  },
  "language_info": {
   "codemirror_mode": "r",
   "file_extension": ".r",
   "mimetype": "text/x-r-source",
   "name": "R",
   "pygments_lexer": "r",
   "version": "3.3.2"
  }
 },
 "nbformat": 4,
 "nbformat_minor": 2
}
